{
 "nbformat": 4,
 "nbformat_minor": 2,
 "metadata": {
  "language_info": {
   "name": "python",
   "codemirror_mode": {
    "name": "ipython",
    "version": 3
   }
  },
  "orig_nbformat": 2,
  "file_extension": ".py",
  "mimetype": "text/x-python",
  "name": "python",
  "npconvert_exporter": "python",
  "pygments_lexer": "ipython3",
  "version": 3
 },
 "cells": [
  {
   "cell_type": "code",
   "execution_count": null,
   "metadata": {},
   "outputs": [
    {
     "ename": "Error",
     "evalue": "Jupyter cannot be started. Error attempting to locate jupyter: 'Kernelspec' module not installed in the selected interpreter ({0}).\n Please re-install or update 'jupyter'.",
     "output_type": "error",
     "traceback": [
      "Error: Jupyter cannot be started. Error attempting to locate jupyter: 'Kernelspec' module not installed in the selected interpreter ({0}).",
      "Please re-install or update 'jupyter'.",
      "at A.startServer (/Users/alan/.vscode/extensions/ms-python.python-2020.2.63072/out/client/extension.js:1:781100)",
      "at async A.ensureServerAndNotebookImpl (/Users/alan/.vscode/extensions/ms-python.python-2020.2.63072/out/client/extension.js:1:780555)",
      "at async A.ensureServerAndNotebook (/Users/alan/.vscode/extensions/ms-python.python-2020.2.63072/out/client/extension.js:1:780356)",
      "at async A.submitCode (/Users/alan/.vscode/extensions/ms-python.python-2020.2.63072/out/client/extension.js:1:777738)",
      "at async A.reexecuteCell (/Users/alan/.vscode/extensions/ms-python.python-2020.2.63072/out/client/extension.js:75:879007)"
     ]
    }
   ],
   "source": [
    "import numpy as np"
   ]
  },
  {
   "cell_type": "code",
   "execution_count": null,
   "metadata": {},
   "outputs": [],
   "source": []
  }
 ]
}